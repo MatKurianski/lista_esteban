{
 "cells": [
  {
   "cell_type": "markdown",
   "metadata": {},
   "source": [
    "# Lista 1 do Esteban"
   ]
  },
  {
   "cell_type": "code",
   "execution_count": 1,
   "metadata": {},
   "outputs": [],
   "source": [
    "import numpy as np\n",
    "import matplotlib.pyplot as plt\n",
    "import pandas as pd\n",
    "%matplotlib inline"
   ]
  },
  {
   "cell_type": "markdown",
   "metadata": {},
   "source": [
    "### 1) Uma indústria de autopeças teve durante 6 meses uma produção de acordo como o quadro :"
   ]
  },
  {
   "cell_type": "code",
   "execution_count": 2,
   "metadata": {},
   "outputs": [],
   "source": [
    "X = np.array(range(4, 10))\n",
    "y = np.array([12, 14, 18, 22, 22, 26])\n",
    "\n",
    "n = X.shape[0]"
   ]
  },
  {
   "cell_type": "markdown",
   "metadata": {},
   "source": [
    "a) Faça o gráfico de dispersão"
   ]
  },
  {
   "cell_type": "code",
   "execution_count": 3,
   "metadata": {},
   "outputs": [
    {
     "data": {
      "image/png": "[encoded data removed]",
      "text/plain": [
       "<Figure size 432x288 with 1 Axes>"
      ]
     },
     "metadata": {
      "needs_background": "light"
     },
     "output_type": "display_data"
    }
   ],
   "source": [
    "plt.plot(X, y, 'r.')\n",
    "plt.show()"
   ]
  },
  {
   "cell_type": "markdown",
   "metadata": {},
   "source": [
    "b) Determine pelo método de mínimos quadrados, os coeficientes da reta de regressão "
   ]
  },
  {
   "cell_type": "code",
   "execution_count": 4,
   "metadata": {},
   "outputs": [],
   "source": [
    "varianciaX = np.square(X - X.mean()/(n-1)).sum()\n",
    "varianciay = np.square(y - y.mean()/(n-1)).sum()\n",
    "\n",
    "desvioPadraoX = np.sqrt(varianciaX)\n",
    "desvioPadraoy = np.sqrt(varianciay)\n",
    "\n",
    "varianciaXy = desvioPadraoX * desvioPadraoy\n",
    "\n",
    "b = varianciaXy / varianciaX\n",
    "a = y.mean() - X.mean() * b"
   ]
  },
  {
   "cell_type": "code",
   "execution_count": 5,
   "metadata": {},
   "outputs": [
    {
     "data": {
      "text/plain": [
       "'varianciaX = 179.74'"
      ]
     },
     "metadata": {},
     "output_type": "display_data"
    },
    {
     "data": {
      "text/plain": [
       "'varianciay = 1528.2399999999998'"
      ]
     },
     "metadata": {},
     "output_type": "display_data"
    },
    {
     "data": {
      "text/plain": [
       "'desvioPadraoX = 13.406714735534578'"
      ]
     },
     "metadata": {},
     "output_type": "display_data"
    },
    {
     "data": {
      "text/plain": [
       "'desvioPadraoy = 39.09271031790965'"
      ]
     },
     "metadata": {},
     "output_type": "display_data"
    },
    {
     "data": {
      "text/plain": [
       "'varianciaXy = 524.104815471104'"
      ]
     },
     "metadata": {},
     "output_type": "display_data"
    }
   ],
   "source": [
    "display(f'varianciaX = {varianciaX}')\n",
    "display(f'varianciay = {varianciay}')\n",
    "\n",
    "display(f'desvioPadraoX = {desvioPadraoX}')\n",
    "display(f'desvioPadraoy = {desvioPadraoy}')\n",
    "\n",
    "display(f'varianciaXy = {varianciaXy}')"
   ]
  },
  {
   "cell_type": "code",
   "execution_count": 6,
   "metadata": {},
   "outputs": [
    {
     "data": {
      "text/plain": [
       "'a: 0.04661566394694816'"
      ]
     },
     "metadata": {},
     "output_type": "display_data"
    },
    {
     "data": {
      "text/plain": [
       "'b: 2.9159052824697005'"
      ]
     },
     "metadata": {},
     "output_type": "display_data"
    }
   ],
   "source": [
    "display(f'a: {a}')\n",
    "display(f'b: {b}')"
   ]
  },
  {
   "cell_type": "code",
   "execution_count": 7,
   "metadata": {},
   "outputs": [
    {
     "data": {
      "image/png": "[encoded data removed]",
      "text/plain": [
       "<Figure size 432x288 with 1 Axes>"
      ]
     },
     "metadata": {
      "needs_background": "light"
     },
     "output_type": "display_data"
    }
   ],
   "source": [
    "y_pred = X * b + a\n",
    "\n",
    "plt.plot(X, y, 'r.')\n",
    "plt.plot(X, y_pred, 'b-')\n",
    "plt.show()"
   ]
  },
  {
   "cell_type": "markdown",
   "metadata": {},
   "source": [
    "d) Da variação total da produção, qual parte é explicada pela equação de regressão?"
   ]
  },
  {
   "cell_type": "code",
   "execution_count": 8,
   "metadata": {},
   "outputs": [
    {
     "data": {
      "text/plain": [
       "0.9967052978564711"
      ]
     },
     "execution_count": 8,
     "metadata": {},
     "output_type": "execute_result"
    }
   ],
   "source": [
    "varianciay_pred = np.square(y_pred - y).sum() # SQE\n",
    "\n",
    "R2 = 1 - varianciay_pred / varianciay\n",
    "R2"
   ]
  },
  {
   "cell_type": "markdown",
   "metadata": {},
   "source": [
    "e) Qual a previsão pra Dezembro?"
   ]
  },
  {
   "cell_type": "code",
   "execution_count": 9,
   "metadata": {},
   "outputs": [
    {
     "data": {
      "text/plain": [
       "35.037479053583354"
      ]
     },
     "execution_count": 9,
     "metadata": {},
     "output_type": "execute_result"
    }
   ],
   "source": [
    "mes = 12\n",
    "a + b * 12"
   ]
  },
  {
   "cell_type": "markdown",
   "metadata": {},
   "source": [
    "### 2) Para construir um modelo linear relacionando a quantidade de fertilizante usado (X) e a produtividade obtida (Y) com uma amostra de 7 canteiros, os dados obtidos foram:"
   ]
  },
  {
   "cell_type": "code",
   "execution_count": 22,
   "metadata": {},
   "outputs": [],
   "source": [
    "X_mean = 400\n",
    "y_mean = 60\n",
    "\n",
    "n = X.shape[0]\n",
    "\n",
    "desvioPadraoX = 216.02\n",
    "desvioPadraoy = 13.84\n",
    "r = 0.92"
   ]
  },
  {
   "cell_type": "markdown",
   "metadata": {},
   "source": [
    "a) Encontre as estimativas do modelo \n",
    "\n",
    "<p style=\"color:red; font-weight: bold\">EU REALMENTE NÃO ENTENDI ESSA QUESTÃO.</p>\n",
    "Então vou supor que ele quer os parâmetros da regressão de novo."
   ]
  },
  {
   "cell_type": "code",
   "execution_count": 23,
   "metadata": {
    "scrolled": true
   },
   "outputs": [
    {
     "data": {
      "text/plain": [
       "'a = 36.42292380335154'"
      ]
     },
     "metadata": {},
     "output_type": "display_data"
    },
    {
     "data": {
      "text/plain": [
       "'b = 0.05894269049162115'"
      ]
     },
     "metadata": {},
     "output_type": "display_data"
    }
   ],
   "source": [
    "varianciaX = np.square(desvioPadraoX)\n",
    "varianciay = np.square(desvioPadraoy)\n",
    "\n",
    "varianciaXy = r * np.sqrt(varianciaX * varianciay)\n",
    "\n",
    "b = varianciaXy / varianciaX\n",
    "a = y_mean - b * X_mean\n",
    "\n",
    "display(f'a = {a}')\n",
    "display(f'b = {b}')"
   ]
  },
  {
   "cell_type": "code",
   "execution_count": 24,
   "metadata": {},
   "outputs": [
    {
     "data": {
      "text/plain": [
       "0.058942690491621146"
      ]
     },
     "execution_count": 24,
     "metadata": {},
     "output_type": "execute_result"
    }
   ],
   "source": [
    "r * desvioPadraoy / desvioPadraoX"
   ]
  },
  {
   "cell_type": "markdown",
   "metadata": {},
   "source": [
    "b) Construa a tabela ANOVA"
   ]
  },
  {
   "cell_type": "markdown",
   "metadata": {},
   "source": [
    "2 grupos, logo:"
   ]
  },
  {
   "cell_type": "code",
   "execution_count": 25,
   "metadata": {},
   "outputs": [],
   "source": [
    "numeroDeGrupos = 2\n",
    "numeroDeObservacoes = 7"
   ]
  },
  {
   "cell_type": "code",
   "execution_count": 26,
   "metadata": {},
   "outputs": [
    {
     "data": {
      "text/plain": [
       "'Grau de Liberdade Regressão = 1'"
      ]
     },
     "metadata": {},
     "output_type": "display_data"
    },
    {
     "data": {
      "text/plain": [
       "'Grau de Liberdade Erro = 12'"
      ]
     },
     "metadata": {},
     "output_type": "display_data"
    },
    {
     "data": {
      "text/plain": [
       "'Grau de Liberdade Total = 13'"
      ]
     },
     "metadata": {},
     "output_type": "display_data"
    }
   ],
   "source": [
    "grauDeLiberdadeReg = numeroDeGrupos - 1\n",
    "grauDeLiberdadeErro = numeroDeGrupos * (numeroDeObservacoes - 1)\n",
    "grauDeLiberdadeTotal= grauDeLiberdadeReg + grauDeLiberdadeErro\n",
    "\n",
    "display(f'Grau de Liberdade Regressão = {grauDeLiberdadeReg}')\n",
    "display(f'Grau de Liberdade Erro = {grauDeLiberdadeErro}')\n",
    "display(f'Grau de Liberdade Total = {grauDeLiberdadeTotal}')"
   ]
  },
  {
   "cell_type": "code",
   "execution_count": 27,
   "metadata": {},
   "outputs": [
    {
     "data": {
      "text/plain": [
       "'SQE = 15.323647999999991'"
      ]
     },
     "metadata": {},
     "output_type": "display_data"
    },
    {
     "data": {
      "text/plain": [
       "'SQR = 176.22195200000002'"
      ]
     },
     "metadata": {},
     "output_type": "display_data"
    },
    {
     "data": {
      "text/plain": [
       "'SQT = 191.5456'"
      ]
     },
     "metadata": {},
     "output_type": "display_data"
    }
   ],
   "source": [
    "SQT = varianciay\n",
    "SQR = r * SQT\n",
    "SQE = SQT - SQR\n",
    "\n",
    "display(f'SQE = {SQE}')\n",
    "display(f'SQR = {SQR}')\n",
    "display(f'SQT = {SQT}')"
   ]
  },
  {
   "cell_type": "code",
   "execution_count": 28,
   "metadata": {},
   "outputs": [
    {
     "data": {
      "text/plain": [
       "'QMR = 176.22195200000002'"
      ]
     },
     "metadata": {},
     "output_type": "display_data"
    },
    {
     "data": {
      "text/plain": [
       "'QME = 1.276970666666666'"
      ]
     },
     "metadata": {},
     "output_type": "display_data"
    },
    {
     "data": {
      "text/plain": [
       "'QMT = 211.57995815384618'"
      ]
     },
     "metadata": {},
     "output_type": "display_data"
    }
   ],
   "source": [
    "QMR = SQR / grauDeLiberdadeReg\n",
    "QME = SQE / grauDeLiberdadeErro\n",
    "QMT = varianciaXy / grauDeLiberdadeTotal\n",
    "\n",
    "display(f'QMR = {QMR}')\n",
    "display(f'QME = {QME}')\n",
    "display(f'QMT = {QMT}')"
   ]
  },
  {
   "cell_type": "code",
   "execution_count": 31,
   "metadata": {
    "scrolled": true
   },
   "outputs": [
    {
     "data": {
      "text/html": [
       "<div>\n",
       "<style scoped>\n",
       "    .dataframe tbody tr th:only-of-type {\n",
       "        vertical-align: middle;\n",
       "    }\n",
       "\n",
       "    .dataframe tbody tr th {\n",
       "        vertical-align: top;\n",
       "    }\n",
       "\n",
       "    .dataframe thead th {\n",
       "        text-align: right;\n",
       "    }\n",
       "</style>\n",
       "<table border=\"1\" class=\"dataframe\">\n",
       "  <thead>\n",
       "    <tr style=\"text-align: right;\">\n",
       "      <th></th>\n",
       "      <th>Grau de liberdade</th>\n",
       "      <th>SQ</th>\n",
       "      <th>QM</th>\n",
       "    </tr>\n",
       "  </thead>\n",
       "  <tbody>\n",
       "    <tr>\n",
       "      <td>Regressão</td>\n",
       "      <td>1.0</td>\n",
       "      <td>176.221952</td>\n",
       "      <td>176.221952</td>\n",
       "    </tr>\n",
       "    <tr>\n",
       "      <td>Erro</td>\n",
       "      <td>12.0</td>\n",
       "      <td>15.323648</td>\n",
       "      <td>1.276971</td>\n",
       "    </tr>\n",
       "    <tr>\n",
       "      <td>Total</td>\n",
       "      <td>13.0</td>\n",
       "      <td>191.545600</td>\n",
       "      <td>211.579958</td>\n",
       "    </tr>\n",
       "  </tbody>\n",
       "</table>\n",
       "</div>"
      ],
      "text/plain": [
       "           Grau de liberdade          SQ          QM\n",
       "Regressão                1.0  176.221952  176.221952\n",
       "Erro                    12.0   15.323648    1.276971\n",
       "Total                   13.0  191.545600  211.579958"
      ]
     },
     "execution_count": 31,
     "metadata": {},
     "output_type": "execute_result"
    }
   ],
   "source": [
    "data = np.array([[grauDeLiberdadeReg, SQR, QMR], \n",
    "                 [grauDeLiberdadeErro, SQE, QME],\n",
    "                 [grauDeLiberdadeTotal, SQT, QMT]])\n",
    "\n",
    "pd.DataFrame(data=data, index=['Regressão', 'Erro', 'Total'], columns=['Grau de liberdade', 'SQ', 'QM'])"
   ]
  },
  {
   "cell_type": "code",
   "execution_count": 30,
   "metadata": {},
   "outputs": [
    {
     "data": {
      "text/plain": [
       "'F = 138.00000000000009'"
      ]
     },
     "metadata": {},
     "output_type": "display_data"
    }
   ],
   "source": [
    "display(f'F = {QMR / QME}')"
   ]
  },
  {
   "cell_type": "markdown",
   "metadata": {},
   "source": [
    "c) Analise os resultados"
   ]
  },
  {
   "cell_type": "markdown",
   "metadata": {},
   "source": [
    "Vendo essa tabela F [aqui](https://static.docsity.com/documents_pages/notas/2009/11/19/1fdbfadc3f645ec9e754467becf230bb.png), notamos que valor para númerador 1 e denominador 12 (graus de liberdade) seria 3.177. Nosso F é maior, logo, a hipótese nula pode ser rejeitada."
   ]
  },
  {
   "cell_type": "markdown",
   "metadata": {},
   "source": [
    "### 3) Um estudo sobre a duração de certas operações está investigando o tempo requerido para acondicionar objetos e o volume que eles ocupam. A amostra observada é: "
   ]
  },
  {
   "cell_type": "code",
   "execution_count": null,
   "metadata": {},
   "outputs": [],
   "source": [
    "X = np.array([10.8, 14.4, 19.6, 18, 8.4, 15.2, 11, 13.3, 23.1])\n",
    "y = np.array([20.39, 24.92, 32.84, 31.72, 13.59, 30.87, 17.84, 23.22, 39.65])\n",
    "\n",
    "n = X.shape[0]"
   ]
  },
  {
   "cell_type": "markdown",
   "metadata": {},
   "source": [
    "a) Faça o diagrama de dispersão dos dados"
   ]
  },
  {
   "cell_type": "code",
   "execution_count": null,
   "metadata": {},
   "outputs": [],
   "source": [
    "plt.plot(X, y, 'r.')\n",
    "plt.show()"
   ]
  },
  {
   "cell_type": "markdown",
   "metadata": {},
   "source": [
    "b) Estima a reta de regressão do tempo de operação em função do volume"
   ]
  },
  {
   "cell_type": "code",
   "execution_count": null,
   "metadata": {},
   "outputs": [],
   "source": [
    "varianciaX = np.square(X - X.mean()/(n-1)).sum()\n",
    "varianciay = np.square(y - y.mean()/(n-1)).sum()\n",
    "\n",
    "varianciaXy = np.sum(X * y) - (X.sum() - y.sum()) / n\n",
    "\n",
    "b = varianciaXy / varianciaX\n",
    "a = y.mean() - X.mean() * b"
   ]
  },
  {
   "cell_type": "code",
   "execution_count": null,
   "metadata": {},
   "outputs": [],
   "source": [
    "y_pred = a + b * X\n",
    "\n",
    "plt.plot(X, y, 'r.')\n",
    "plt.plot(X, y_pred, 'b-')\n",
    "plt.show()"
   ]
  },
  {
   "cell_type": "markdown",
   "metadata": {},
   "source": [
    "c) Construa a tabela ANOVA para o modelo"
   ]
  },
  {
   "cell_type": "code",
   "execution_count": null,
   "metadata": {},
   "outputs": [],
   "source": [
    "numeroDeGrupos = 2\n",
    "numeroDeObservacoes = 9"
   ]
  },
  {
   "cell_type": "code",
   "execution_count": null,
   "metadata": {},
   "outputs": [],
   "source": [
    "grauDeLiberdadeReg = numeroDeGrupos - 1\n",
    "grauDeLiberdadeErro = numeroDeGrupos * (numeroDeObservacoes - 1)\n",
    "grauDeLiberdadeTotal= grauDeLiberdadeReg + grauDeLiberdadeErro\n",
    "\n",
    "display(f'Grau de Liberdade Regressão = {grauDeLiberdadeReg}')\n",
    "display(f'Grau de Liberdade Erro = {grauDeLiberdadeErro}')\n",
    "display(f'Grau de Liberdade Total = {grauDeLiberdadeTotal}')"
   ]
  },
  {
   "cell_type": "code",
   "execution_count": null,
   "metadata": {},
   "outputs": [],
   "source": [
    "SQE = np.square(y_pred - y).sum()\n",
    "SQT = np.square(y - y.mean()).sum()\n",
    "SQR = SQT - SQE\n",
    "\n",
    "display(f'SQE = {SQE}')\n",
    "display(f'SQR = {SQR}')\n",
    "display(f'SQT = {SQT}')"
   ]
  },
  {
   "cell_type": "code",
   "execution_count": null,
   "metadata": {},
   "outputs": [],
   "source": [
    "QME = SQE / grauDeLiberdadeErro\n",
    "QMR = SQR / grauDeLiberdadeReg\n",
    "QMT = SQT / grauDeLiberdadeTotal\n",
    "\n",
    "display(f'QME = {QME}')\n",
    "display(f'QMR = {QMR}')\n",
    "display(f'QMT = {QMT}')"
   ]
  },
  {
   "cell_type": "code",
   "execution_count": null,
   "metadata": {},
   "outputs": [],
   "source": [
    "data = np.array([\n",
    "    [grauDeLiberdadeReg,\n",
    "     SQR,\n",
    "     QMR],\n",
    "    [grauDeLiberdadeErro, \n",
    "     SQE, \n",
    "     QME], \n",
    "    [grauDeLiberdadeTotal,\n",
    "     SQT,\n",
    "     QMT]\n",
    "])\n",
    "\n",
    "pd.DataFrame(data=data, index=['Regressão', 'Erro', 'Total'], columns=['Grau de liberdade', \"SQ\", \"QM\"])"
   ]
  },
  {
   "cell_type": "code",
   "execution_count": null,
   "metadata": {},
   "outputs": [],
   "source": [
    "F = QMR / QME\n",
    "display(f'F = {F}')"
   ]
  },
  {
   "cell_type": "markdown",
   "metadata": {},
   "source": [
    "d) Qual o valor de QME?  É pequeno quando comparado com QMT?"
   ]
  },
  {
   "cell_type": "markdown",
   "metadata": {},
   "source": [
    "É pequeno sim."
   ]
  },
  {
   "cell_type": "markdown",
   "metadata": {},
   "source": [
    "e) Você acha que, conhecer o volume do pacote, ajuda a prever o tempo de empacotamento?"
   ]
  },
  {
   "cell_type": "code",
   "execution_count": null,
   "metadata": {},
   "outputs": [],
   "source": [
    "display(f'O modelo que criamos tem coeficiente de explicação R² de {SQR/SQT} então acho que sim.')"
   ]
  },
  {
   "cell_type": "markdown",
   "metadata": {},
   "source": [
    "### 5) Nas situações abaixo, escolha como Hipótese Nula (Ho), aquela que para você leva a um erro tipo I mais importante. Descreva quais os dois erros em cada caso:"
   ]
  },
  {
   "cell_type": "markdown",
   "metadata": {},
   "source": [
    "<p style=\"font-weight: bold\">NOTA: Estou considerando como \"mais importante\" aquela que caso escolhida, é a mais segura/que mais previne perigos</p>"
   ]
  },
  {
   "cell_type": "markdown",
   "metadata": {},
   "source": [
    "a) O trabalho de um operador de radar é detectar aeronave inimigas. Quando surge alguma coisa estranha na tela, ele deve decidir entre as hipóteses:\n",
    "    1. Está começando um ataque\n",
    "    2. Tudo bem, apenas uma leve interferência"
   ]
  },
  {
   "cell_type": "markdown",
   "metadata": {},
   "source": [
    "A hipótese nula é a 2, pois caso seja rejeitada, é menos perigosa visto que pode estar prevenindo um possível ataque."
   ]
  },
  {
   "cell_type": "markdown",
   "metadata": {},
   "source": [
    "b) Num Júri, um individuo está sendo julgado por um crime. As hipóteses sujeitas ao júri são: \n",
    "    1. O acusado é inocente\n",
    "    2. O acusado é culpado"
   ]
  },
  {
   "cell_type": "markdown",
   "metadata": {},
   "source": [
    "Aqui estou em impasse:\n",
    "    1. Caso escolha a primeira, rejeitar a hipótese significaria em potencialmente punir um inocente e arruinar com sua vida.\n",
    "    2. Caso escolha a senha, rejeitar pode fazer com que um culpado passe impune pela lei"
   ]
  },
  {
   "cell_type": "markdown",
   "metadata": {},
   "source": [
    "c) Um pesquisador acredita que descobriu uma vacina contra resfriado. Ele irá conduzir um pesquisa de laboratório para verificar a veracidade da afirmação. De acordo com o  resultado, ele lançará ou não a vacina no mercado. As hipóteses que pode testar são:\n",
    "    1. A vacina é eficaz\n",
    "    2. A vacina não é eficaz"
   ]
  },
  {
   "cell_type": "markdown",
   "metadata": {},
   "source": [
    "A hipótese nula é que a vacina não é eficaz, visto que se uma vacina boa for rejeitada é pior do que uma vacina ruim ser aprovada. Nota: Considerar \"ruim\" como ineficaz mas não nociva à saúde."
   ]
  }
 ],
 "metadata": {
  "kernelspec": {
   "display_name": "Python 3",
   "language": "python",
   "name": "python3"
  },
  "language_info": {
   "codemirror_mode": {
    "name": "ipython",
    "version": 3
   },
   "file_extension": ".py",
   "mimetype": "text/x-python",
   "name": "python",
   "nbconvert_exporter": "python",
   "pygments_lexer": "ipython3",
   "version": "3.7.4"
  }
 },
 "nbformat": 4,
 "nbformat_minor": 2
}
