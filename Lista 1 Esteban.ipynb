{
 "cells": [
  {
   "cell_type": "markdown",
   "metadata": {},
   "source": [
    "# Lista 1 do Esteban"
   ]
  },
  {
   "cell_type": "code",
   "execution_count": 1,
   "metadata": {},
   "outputs": [],
   "source": [
    "import numpy as np\n",
    "import matplotlib.pyplot as plt\n",
    "import pandas as pd\n",
    "%matplotlib inline"
   ]
  },
  {
   "cell_type": "markdown",
   "metadata": {},
   "source": [
    "### 1) Uma indústria de autopeças teve durante 6 meses uma produção de acordo como o quadro :"
   ]
  },
  {
   "cell_type": "code",
   "execution_count": 2,
   "metadata": {},
   "outputs": [],
   "source": [
    "X = np.array(range(4, 10))\n",
    "y = np.array([12, 14, 18, 22, 22, 26])"
   ]
  },
  {
   "cell_type": "markdown",
   "metadata": {},
   "source": [
    "a) Faça o gráfico de dispersão"
   ]
  },
  {
   "cell_type": "code",
   "execution_count": 3,
   "metadata": {},
   "outputs": [
    {
     "data": {
      "image/png": "[encoded data removed]",
      "text/plain": [
       "<Figure size 432x288 with 1 Axes>"
      ]
     },
     "metadata": {
      "needs_background": "light"
     },
     "output_type": "display_data"
    }
   ],
   "source": [
    "plt.plot(X, y, 'r.')\n",
    "plt.show()"
   ]
  },
  {
   "cell_type": "markdown",
   "metadata": {},
   "source": [
    "b) Determine pelo método de mínimos quadrados, os coeficientes da reta de regressão "
   ]
  },
  {
   "cell_type": "code",
   "execution_count": 4,
   "metadata": {},
   "outputs": [],
   "source": [
    "varianciaX = np.square(X - X.mean()).sum()\n",
    "varianciay = np.square(y - y.mean()).sum()\n",
    "\n",
    "desvioPadraoX = np.sqrt(varianciaX)\n",
    "desvioPadraoy = np.sqrt(varianciay)\n",
    "\n",
    "varianciaXy = desvioPadraoX * desvioPadraoy # SQT\n",
    "\n",
    "b = varianciaXy / varianciaX\n",
    "a = y.mean() - X.mean() * b"
   ]
  },
  {
   "cell_type": "code",
   "execution_count": 5,
   "metadata": {},
   "outputs": [
    {
     "data": {
      "text/plain": [
       "'varianciaX = 17.5'"
      ]
     },
     "metadata": {},
     "output_type": "display_data"
    },
    {
     "data": {
      "text/plain": [
       "'varianciay = 142.0'"
      ]
     },
     "metadata": {},
     "output_type": "display_data"
    },
    {
     "data": {
      "text/plain": [
       "'desvioPadraoX = 4.183300132670378'"
      ]
     },
     "metadata": {},
     "output_type": "display_data"
    },
    {
     "data": {
      "text/plain": [
       "'desvioPadraoy = 11.916375287812984'"
      ]
     },
     "metadata": {},
     "output_type": "display_data"
    },
    {
     "data": {
      "text/plain": [
       "'varianciaXy = 49.84977432245807'"
      ]
     },
     "metadata": {},
     "output_type": "display_data"
    }
   ],
   "source": [
    "display(f'varianciaX = {varianciaX}')\n",
    "display(f'varianciay = {varianciay}')\n",
    "\n",
    "display(f'desvioPadraoX = {desvioPadraoX}')\n",
    "display(f'desvioPadraoy = {desvioPadraoy}')\n",
    "\n",
    "display(f'varianciaXy = {varianciaXy}')"
   ]
  },
  {
   "cell_type": "code",
   "execution_count": 6,
   "metadata": {},
   "outputs": [
    {
     "data": {
      "text/plain": [
       "'a: 0.48436953737271793'"
      ]
     },
     "metadata": {},
     "output_type": "display_data"
    },
    {
     "data": {
      "text/plain": [
       "'b: 2.8485585327118894'"
      ]
     },
     "metadata": {},
     "output_type": "display_data"
    }
   ],
   "source": [
    "display(f'a: {a}')\n",
    "display(f'b: {b}')"
   ]
  },
  {
   "cell_type": "code",
   "execution_count": 7,
   "metadata": {},
   "outputs": [
    {
     "data": {
      "image/png": "[encoded data removed]",
      "text/plain": [
       "<Figure size 432x288 with 1 Axes>"
      ]
     },
     "metadata": {
      "needs_background": "light"
     },
     "output_type": "display_data"
    }
   ],
   "source": [
    "y_pred = X * b + a\n",
    "\n",
    "plt.plot(X, y, 'r.')\n",
    "plt.plot(X, y_pred, 'b-')\n",
    "plt.show()"
   ]
  },
  {
   "cell_type": "markdown",
   "metadata": {},
   "source": [
    "d) Da variação total da produção, qual parte é explicada pela equação de regressão?"
   ]
  },
  {
   "cell_type": "code",
   "execution_count": 8,
   "metadata": {},
   "outputs": [
    {
     "data": {
      "text/plain": [
       "0.9028829345762204"
      ]
     },
     "execution_count": 8,
     "metadata": {},
     "output_type": "execute_result"
    }
   ],
   "source": [
    "varianciay_pred = np.square(y_pred - y).sum() # SQE\n",
    "\n",
    "R2 = 1 - varianciay_pred / varianciaXy\n",
    "R2"
   ]
  },
  {
   "cell_type": "markdown",
   "metadata": {},
   "source": [
    "e) Qual a previsão pra Dezembro?"
   ]
  },
  {
   "cell_type": "code",
   "execution_count": 9,
   "metadata": {},
   "outputs": [
    {
     "data": {
      "text/plain": [
       "34.667071929915394"
      ]
     },
     "execution_count": 9,
     "metadata": {},
     "output_type": "execute_result"
    }
   ],
   "source": [
    "mes = 12\n",
    "a + b * 12"
   ]
  },
  {
   "cell_type": "markdown",
   "metadata": {},
   "source": [
    "### 2) Para construir um modelo linear relacionando a quantidade de fertilizante usado (X) e a produtividade obtida (Y) com uma amostra de 7 canteiros, os dados obtidos foram:"
   ]
  },
  {
   "cell_type": "code",
   "execution_count": 10,
   "metadata": {},
   "outputs": [],
   "source": [
    "X_mean = 400\n",
    "y_mean = 60\n",
    "\n",
    "desvioPadraoX = 216.02\n",
    "desvioPadraoy = 13.84\n",
    "r = 0.92"
   ]
  },
  {
   "cell_type": "markdown",
   "metadata": {},
   "source": [
    "a) Encontre as estimativas do modelo \n",
    "\n",
    "<p style=\"color:red; font-weight: bold\">EU REALMENTE NÃO ENTENDI ESSA QUESTÃO.</p>\n",
    "Então vou supor que ele quer os parâmetros da regressão de novo."
   ]
  },
  {
   "cell_type": "code",
   "execution_count": 11,
   "metadata": {},
   "outputs": [
    {
     "data": {
      "text/plain": [
       "'a = 34.37274326451255'"
      ]
     },
     "metadata": {},
     "output_type": "display_data"
    },
    {
     "data": {
      "text/plain": [
       "'b = 0.06406814183871863'"
      ]
     },
     "metadata": {},
     "output_type": "display_data"
    }
   ],
   "source": [
    "varianciaX = np.square(desvioPadraoX)\n",
    "varianciay = np.square(desvioPadraoy)\n",
    "\n",
    "varianciaXy = desvioPadraoX * desvioPadraoy # SQT\n",
    "\n",
    "b = varianciaXy / varianciaX\n",
    "a = y_mean - b * X_mean\n",
    "\n",
    "display(f'a = {a}')\n",
    "display(f'b = {b}')"
   ]
  },
  {
   "cell_type": "markdown",
   "metadata": {},
   "source": [
    "b) Construa a tabela ANOVA"
   ]
  },
  {
   "cell_type": "markdown",
   "metadata": {},
   "source": [
    "2 grupos, logo:"
   ]
  },
  {
   "cell_type": "code",
   "execution_count": 12,
   "metadata": {},
   "outputs": [],
   "source": [
    "numeroDeGrupos = 2\n",
    "numeroDeObservacoes = 7"
   ]
  },
  {
   "cell_type": "code",
   "execution_count": 13,
   "metadata": {},
   "outputs": [
    {
     "data": {
      "text/plain": [
       "'Grau de Liberdade Regressão = 1'"
      ]
     },
     "metadata": {},
     "output_type": "display_data"
    },
    {
     "data": {
      "text/plain": [
       "'Grau de Liberdade Erro = 12'"
      ]
     },
     "metadata": {},
     "output_type": "display_data"
    },
    {
     "data": {
      "text/plain": [
       "'Grau de Liberdade Total = 13'"
      ]
     },
     "metadata": {},
     "output_type": "display_data"
    }
   ],
   "source": [
    "grauDeLiberdadeReg = numeroDeGrupos - 1\n",
    "grauDeLiberdadeErro = numeroDeGrupos * (numeroDeObservacoes - 1)\n",
    "grauDeLiberdadeTotal= grauDeLiberdadeReg + grauDeLiberdadeErro\n",
    "\n",
    "display(f'Grau de Liberdade Regressão = {grauDeLiberdadeReg}')\n",
    "display(f'Grau de Liberdade Erro = {grauDeLiberdadeErro}')\n",
    "display(f'Grau de Liberdade Total = {grauDeLiberdadeTotal}')"
   ]
  },
  {
   "cell_type": "code",
   "execution_count": 14,
   "metadata": {},
   "outputs": [
    {
     "data": {
      "text/plain": [
       "'SQE = 2750.5394560000004'"
      ]
     },
     "metadata": {},
     "output_type": "display_data"
    },
    {
     "data": {
      "text/plain": [
       "'SQR = 239.17734399999972'"
      ]
     },
     "metadata": {},
     "output_type": "display_data"
    },
    {
     "data": {
      "text/plain": [
       "'SQT = 2989.7168'"
      ]
     },
     "metadata": {},
     "output_type": "display_data"
    }
   ],
   "source": [
    "SQE = r * varianciaXy\n",
    "SQR = varianciaXy - SQE\n",
    "\n",
    "display(f'SQE = {SQE}')\n",
    "display(f'SQR = {SQR}')\n",
    "display(f'SQT = {varianciaXy}')"
   ]
  },
  {
   "cell_type": "code",
   "execution_count": 15,
   "metadata": {},
   "outputs": [
    {
     "data": {
      "text/plain": [
       "'QMR = 239.17734399999972'"
      ]
     },
     "metadata": {},
     "output_type": "display_data"
    },
    {
     "data": {
      "text/plain": [
       "'QME = 229.21162133333337'"
      ]
     },
     "metadata": {},
     "output_type": "display_data"
    },
    {
     "data": {
      "text/plain": [
       "'QMT = 229.9782153846154'"
      ]
     },
     "metadata": {},
     "output_type": "display_data"
    }
   ],
   "source": [
    "QMR = SQR / grauDeLiberdadeReg\n",
    "QME = SQE / grauDeLiberdadeErro\n",
    "QMT = varianciaXy / grauDeLiberdadeTotal\n",
    "\n",
    "display(f'QMR = {QMR}')\n",
    "display(f'QME = {QME}')\n",
    "display(f'QMT = {QMT}')"
   ]
  },
  {
   "cell_type": "code",
   "execution_count": 16,
   "metadata": {
    "scrolled": true
   },
   "outputs": [
    {
     "data": {
      "text/html": [
       "<div>\n",
       "<style scoped>\n",
       "    .dataframe tbody tr th:only-of-type {\n",
       "        vertical-align: middle;\n",
       "    }\n",
       "\n",
       "    .dataframe tbody tr th {\n",
       "        vertical-align: top;\n",
       "    }\n",
       "\n",
       "    .dataframe thead th {\n",
       "        text-align: right;\n",
       "    }\n",
       "</style>\n",
       "<table border=\"1\" class=\"dataframe\">\n",
       "  <thead>\n",
       "    <tr style=\"text-align: right;\">\n",
       "      <th></th>\n",
       "      <th>Grau de liberdade</th>\n",
       "      <th>SQ</th>\n",
       "      <th>QM</th>\n",
       "    </tr>\n",
       "  </thead>\n",
       "  <tbody>\n",
       "    <tr>\n",
       "      <td>Regressão</td>\n",
       "      <td>1.0</td>\n",
       "      <td>239.177344</td>\n",
       "      <td>239.177344</td>\n",
       "    </tr>\n",
       "    <tr>\n",
       "      <td>Erro</td>\n",
       "      <td>12.0</td>\n",
       "      <td>2750.539456</td>\n",
       "      <td>229.211621</td>\n",
       "    </tr>\n",
       "    <tr>\n",
       "      <td>Total</td>\n",
       "      <td>13.0</td>\n",
       "      <td>2989.716800</td>\n",
       "      <td>229.978215</td>\n",
       "    </tr>\n",
       "  </tbody>\n",
       "</table>\n",
       "</div>"
      ],
      "text/plain": [
       "           Grau de liberdade           SQ          QM\n",
       "Regressão                1.0   239.177344  239.177344\n",
       "Erro                    12.0  2750.539456  229.211621\n",
       "Total                   13.0  2989.716800  229.978215"
      ]
     },
     "execution_count": 16,
     "metadata": {},
     "output_type": "execute_result"
    }
   ],
   "source": [
    "data = np.array([[grauDeLiberdadeReg, SQR, QMR], \n",
    "                 [grauDeLiberdadeErro, SQE, QME],\n",
    "                 [grauDeLiberdadeTotal, varianciaXy, QMT]])\n",
    "\n",
    "pd.DataFrame(data=data, index=['Regressão', 'Erro', 'Total'], columns=['Grau de liberdade', 'SQ', 'QM'])"
   ]
  },
  {
   "cell_type": "code",
   "execution_count": 17,
   "metadata": {},
   "outputs": [
    {
     "data": {
      "text/plain": [
       "'F = 1.0434782608695639'"
      ]
     },
     "metadata": {},
     "output_type": "display_data"
    }
   ],
   "source": [
    "display(f'F = {QMR / QME}')"
   ]
  },
  {
   "cell_type": "markdown",
   "metadata": {},
   "source": [
    "c) Analise os resultados"
   ]
  },
  {
   "cell_type": "markdown",
   "metadata": {},
   "source": [
    "Vendo essa tabela F [aqui](https://static.docsity.com/documents_pages/notas/2009/11/19/1fdbfadc3f645ec9e754467becf230bb.png), notamos que valor para númerador 1 e denominador 12 (graus de liberdade) seria 3.177. Nosso F é menor, logo, a hipótese nula não pode ser rejeitada."
   ]
  },
  {
   "cell_type": "markdown",
   "metadata": {},
   "source": [
    "### 3) Um estudo sobre a duração de certas operações está investigando o tempo requerido para acondicionar objetos e o volume que eles ocupam. A amostra observada é: "
   ]
  },
  {
   "cell_type": "code",
   "execution_count": 18,
   "metadata": {},
   "outputs": [],
   "source": [
    "X = np.array([10.8, 14.4, 19.6, 18, 8.4, 15.2, 11, 13.3, 23.1])\n",
    "y = np.array([20.39, 24.92, 32.84, 31.72, 13.59, 30.87, 17.84, 23.22, 39.65])"
   ]
  },
  {
   "cell_type": "markdown",
   "metadata": {},
   "source": [
    "a) Faça o diagrama de dispersão dos dados"
   ]
  },
  {
   "cell_type": "code",
   "execution_count": 19,
   "metadata": {},
   "outputs": [
    {
     "data": {
      "image/png": "[encoded data removed]",
      "text/plain": [
       "<Figure size 432x288 with 1 Axes>"
      ]
     },
     "metadata": {
      "needs_background": "light"
     },
     "output_type": "display_data"
    }
   ],
   "source": [
    "plt.plot(X, y, 'r.')\n",
    "plt.show()"
   ]
  },
  {
   "cell_type": "markdown",
   "metadata": {},
   "source": [
    "b) Estima a reta de regressão do tempo de operação em função do volume"
   ]
  },
  {
   "cell_type": "code",
   "execution_count": 20,
   "metadata": {},
   "outputs": [],
   "source": [
    "varianciaX = np.square(X - X.mean()).sum()\n",
    "varianciay = np.square(y - y.mean()).sum()\n",
    "\n",
    "varianciaXy = np.sqrt(varianciaX * varianciay)\n",
    "\n",
    "b = varianciaXy / varianciaX\n",
    "a = y.mean() - X.mean() * b"
   ]
  },
  {
   "cell_type": "code",
   "execution_count": 21,
   "metadata": {},
   "outputs": [
    {
     "data": {
      "image/png": "[encoded data removed]",
      "text/plain": [
       "<Figure size 432x288 with 1 Axes>"
      ]
     },
     "metadata": {
      "needs_background": "light"
     },
     "output_type": "display_data"
    }
   ],
   "source": [
    "y_pred = a + b * X\n",
    "\n",
    "plt.plot(X, y, 'r.')\n",
    "plt.plot(X, y_pred, 'b-')\n",
    "plt.show()"
   ]
  },
  {
   "cell_type": "markdown",
   "metadata": {},
   "source": [
    "c) Construa a tabela ANOVA para o modelo"
   ]
  },
  {
   "cell_type": "code",
   "execution_count": 22,
   "metadata": {},
   "outputs": [],
   "source": [
    "numeroDeGrupos = 2\n",
    "numeroDeObservacoes = 9"
   ]
  },
  {
   "cell_type": "code",
   "execution_count": 23,
   "metadata": {},
   "outputs": [
    {
     "data": {
      "text/plain": [
       "'Grau de Liberdade Regressão = 1'"
      ]
     },
     "metadata": {},
     "output_type": "display_data"
    },
    {
     "data": {
      "text/plain": [
       "'Grau de Liberdade Erro = 16'"
      ]
     },
     "metadata": {},
     "output_type": "display_data"
    },
    {
     "data": {
      "text/plain": [
       "'Grau de Liberdade Total = 17'"
      ]
     },
     "metadata": {},
     "output_type": "display_data"
    }
   ],
   "source": [
    "grauDeLiberdadeReg = numeroDeGrupos - 1\n",
    "grauDeLiberdadeErro = numeroDeGrupos * (numeroDeObservacoes - 1)\n",
    "grauDeLiberdadeTotal= grauDeLiberdadeReg + grauDeLiberdadeErro\n",
    "\n",
    "display(f'Grau de Liberdade Regressão = {grauDeLiberdadeReg}')\n",
    "display(f'Grau de Liberdade Erro = {grauDeLiberdadeErro}')\n",
    "display(f'Grau de Liberdade Total = {grauDeLiberdadeTotal}')"
   ]
  },
  {
   "cell_type": "code",
   "execution_count": 24,
   "metadata": {},
   "outputs": [
    {
     "data": {
      "text/plain": [
       "'SQE = 26.660593823191437'"
      ]
     },
     "metadata": {},
     "output_type": "display_data"
    },
    {
     "data": {
      "text/plain": [
       "'SQR = 550.3838222222221'"
      ]
     },
     "metadata": {},
     "output_type": "display_data"
    },
    {
     "data": {
      "text/plain": [
       "'SQT = 577.0444160454135'"
      ]
     },
     "metadata": {},
     "output_type": "display_data"
    }
   ],
   "source": [
    "SQE = np.square(y_pred - y).sum()\n",
    "SQR = np.square(y_pred - y.mean()).sum()\n",
    "SQT = SQE + SQR\n",
    "\n",
    "display(f'SQE = {SQE}')\n",
    "display(f'SQR = {SQR}')\n",
    "display(f'SQT = {SQT}')"
   ]
  },
  {
   "cell_type": "code",
   "execution_count": 25,
   "metadata": {},
   "outputs": [
    {
     "data": {
      "text/plain": [
       "'QME = 1.6662871139494648'"
      ]
     },
     "metadata": {},
     "output_type": "display_data"
    },
    {
     "data": {
      "text/plain": [
       "'QMR = 550.3838222222221'"
      ]
     },
     "metadata": {},
     "output_type": "display_data"
    },
    {
     "data": {
      "text/plain": [
       "'QMT = 33.94378917914197'"
      ]
     },
     "metadata": {},
     "output_type": "display_data"
    }
   ],
   "source": [
    "QME = SQE / grauDeLiberdadeErro\n",
    "QMR = SQR / grauDeLiberdadeReg\n",
    "QMT = SQT / grauDeLiberdadeTotal\n",
    "\n",
    "display(f'QME = {QME}')\n",
    "display(f'QMR = {QMR}')\n",
    "display(f'QMT = {QMT}')"
   ]
  },
  {
   "cell_type": "code",
   "execution_count": 26,
   "metadata": {},
   "outputs": [
    {
     "data": {
      "text/html": [
       "<div>\n",
       "<style scoped>\n",
       "    .dataframe tbody tr th:only-of-type {\n",
       "        vertical-align: middle;\n",
       "    }\n",
       "\n",
       "    .dataframe tbody tr th {\n",
       "        vertical-align: top;\n",
       "    }\n",
       "\n",
       "    .dataframe thead th {\n",
       "        text-align: right;\n",
       "    }\n",
       "</style>\n",
       "<table border=\"1\" class=\"dataframe\">\n",
       "  <thead>\n",
       "    <tr style=\"text-align: right;\">\n",
       "      <th></th>\n",
       "      <th>Grau de liberdade</th>\n",
       "      <th>SQ</th>\n",
       "      <th>QM</th>\n",
       "    </tr>\n",
       "  </thead>\n",
       "  <tbody>\n",
       "    <tr>\n",
       "      <td>Regressão</td>\n",
       "      <td>1.0</td>\n",
       "      <td>550.383822</td>\n",
       "      <td>550.383822</td>\n",
       "    </tr>\n",
       "    <tr>\n",
       "      <td>Erro</td>\n",
       "      <td>16.0</td>\n",
       "      <td>26.660594</td>\n",
       "      <td>1.666287</td>\n",
       "    </tr>\n",
       "    <tr>\n",
       "      <td>Total</td>\n",
       "      <td>17.0</td>\n",
       "      <td>577.044416</td>\n",
       "      <td>33.943789</td>\n",
       "    </tr>\n",
       "  </tbody>\n",
       "</table>\n",
       "</div>"
      ],
      "text/plain": [
       "           Grau de liberdade          SQ          QM\n",
       "Regressão                1.0  550.383822  550.383822\n",
       "Erro                    16.0   26.660594    1.666287\n",
       "Total                   17.0  577.044416   33.943789"
      ]
     },
     "execution_count": 26,
     "metadata": {},
     "output_type": "execute_result"
    }
   ],
   "source": [
    "data = np.array([\n",
    "    [grauDeLiberdadeReg,\n",
    "     SQR,\n",
    "     QMR],\n",
    "    [grauDeLiberdadeErro, \n",
    "     SQE, \n",
    "     QME], \n",
    "    [grauDeLiberdadeTotal,\n",
    "     SQT,\n",
    "     QMT]\n",
    "])\n",
    "\n",
    "pd.DataFrame(data=data, index=['Regressão', 'Erro', 'Total'], columns=['Grau de liberdade', \"SQ\", \"QM\"])"
   ]
  },
  {
   "cell_type": "code",
   "execution_count": 27,
   "metadata": {},
   "outputs": [
    {
     "data": {
      "text/plain": [
       "'F = 330.3055143466195'"
      ]
     },
     "metadata": {},
     "output_type": "display_data"
    }
   ],
   "source": [
    "F = QMR / QME\n",
    "display(f'F = {F}')"
   ]
  },
  {
   "cell_type": "markdown",
   "metadata": {},
   "source": [
    "d) Qual o valor de QME?  É pequeno quando comparado com QMT?"
   ]
  },
  {
   "cell_type": "markdown",
   "metadata": {},
   "source": [
    "É pequeno sim."
   ]
  }
 ],
 "metadata": {
  "kernelspec": {
   "display_name": "Python 3",
   "language": "python",
   "name": "python3"
  },
  "language_info": {
   "codemirror_mode": {
    "name": "ipython",
    "version": 3
   },
   "file_extension": ".py",
   "mimetype": "text/x-python",
   "name": "python",
   "nbconvert_exporter": "python",
   "pygments_lexer": "ipython3",
   "version": "3.7.4"
  }
 },
 "nbformat": 4,
 "nbformat_minor": 2
}
