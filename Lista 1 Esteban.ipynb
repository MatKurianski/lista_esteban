{
 "cells": [
  {
   "cell_type": "code",
   "execution_count": 1,
   "metadata": {},
   "outputs": [],
   "source": [
    "import numpy as np\n",
    "import matplotlib.pyplot as plt\n",
    "import pandas as pd"
   ]
  },
  {
   "cell_type": "markdown",
   "metadata": {},
   "source": [
    "1) Uma indústria de autopeças teve durante 6 meses uma produção de acordo como o quadro :"
   ]
  },
  {
   "cell_type": "code",
   "execution_count": 2,
   "metadata": {},
   "outputs": [],
   "source": [
    "X = np.array(range(4, 10))\n",
    "y = np.array([12, 14, 18, 22, 22, 26])"
   ]
  },
  {
   "cell_type": "markdown",
   "metadata": {},
   "source": [
    "a) Faça o gráfico de dispersão"
   ]
  },
  {
   "cell_type": "code",
   "execution_count": 3,
   "metadata": {},
   "outputs": [
    {
     "data": {
      "image/png": "[encoded data removed]",
      "text/plain": [
       "<Figure size 432x288 with 1 Axes>"
      ]
     },
     "metadata": {
      "needs_background": "light"
     },
     "output_type": "display_data"
    }
   ],
   "source": [
    "plt.plot(X, y, 'r.')\n",
    "plt.show()"
   ]
  },
  {
   "cell_type": "markdown",
   "metadata": {},
   "source": [
    "b) Determine pelo método de mínimos quadrados, os coeficientes da reta de regressão "
   ]
  },
  {
   "cell_type": "code",
   "execution_count": 4,
   "metadata": {},
   "outputs": [],
   "source": [
    "varianciaX = np.square(X - X.mean()).sum()\n",
    "varianciay = np.square(y - y.mean()).sum()\n",
    "\n",
    "desvioPadraoX = np.sqrt(varianciaX)\n",
    "desvioPadraoy = np.sqrt(varianciay)\n",
    "\n",
    "varianciaXy = desvioPadraoX * desvioPadraoy # SQT\n",
    "\n",
    "b = varianciaXy / varianciaX\n",
    "a = y.mean() - X.mean() * b"
   ]
  },
  {
   "cell_type": "code",
   "execution_count": 5,
   "metadata": {},
   "outputs": [
    {
     "data": {
      "text/plain": [
       "'varianciaX = 17.5'"
      ]
     },
     "metadata": {},
     "output_type": "display_data"
    },
    {
     "data": {
      "text/plain": [
       "'varianciay = 142.0'"
      ]
     },
     "metadata": {},
     "output_type": "display_data"
    },
    {
     "data": {
      "text/plain": [
       "'desvioPadraoX = 4.183300132670378'"
      ]
     },
     "metadata": {},
     "output_type": "display_data"
    },
    {
     "data": {
      "text/plain": [
       "'desvioPadraoy = 11.916375287812984'"
      ]
     },
     "metadata": {},
     "output_type": "display_data"
    },
    {
     "data": {
      "text/plain": [
       "'varianciaXy = 49.84977432245807'"
      ]
     },
     "metadata": {},
     "output_type": "display_data"
    }
   ],
   "source": [
    "display(f'varianciaX = {varianciaX}')\n",
    "display(f'varianciay = {varianciay}')\n",
    "\n",
    "display(f'desvioPadraoX = {desvioPadraoX}')\n",
    "display(f'desvioPadraoy = {desvioPadraoy}')\n",
    "\n",
    "display(f'varianciaXy = {varianciaXy}')"
   ]
  },
  {
   "cell_type": "code",
   "execution_count": 6,
   "metadata": {},
   "outputs": [
    {
     "data": {
      "text/plain": [
       "'a: 0.48436953737271793'"
      ]
     },
     "metadata": {},
     "output_type": "display_data"
    },
    {
     "data": {
      "text/plain": [
       "'b: 2.8485585327118894'"
      ]
     },
     "metadata": {},
     "output_type": "display_data"
    }
   ],
   "source": [
    "display(f'a: {a}')\n",
    "display(f'b: {b}')"
   ]
  },
  {
   "cell_type": "code",
   "execution_count": 7,
   "metadata": {},
   "outputs": [
    {
     "data": {
      "image/png": "[encoded data removed]",
      "text/plain": [
       "<Figure size 432x288 with 1 Axes>"
      ]
     },
     "metadata": {
      "needs_background": "light"
     },
     "output_type": "display_data"
    }
   ],
   "source": [
    "y_pred = X * b + a\n",
    "\n",
    "plt.plot(X, y, 'r.')\n",
    "plt.plot(X, y_pred, 'r-')\n",
    "plt.show()"
   ]
  },
  {
   "cell_type": "markdown",
   "metadata": {},
   "source": [
    "d) Da variação total da produção, qual parte é explicada pela equação de regressão?"
   ]
  },
  {
   "cell_type": "code",
   "execution_count": 8,
   "metadata": {},
   "outputs": [
    {
     "data": {
      "text/plain": [
       "0.9028829345762204"
      ]
     },
     "execution_count": 8,
     "metadata": {},
     "output_type": "execute_result"
    }
   ],
   "source": [
    "varianciay_pred = np.square(y_pred - y).sum() # SQE\n",
    "\n",
    "R2 = 1 - varianciay_pred / varianciaXy\n",
    "R2"
   ]
  },
  {
   "cell_type": "markdown",
   "metadata": {},
   "source": [
    "e) Qual a previsão pra Dezembro?"
   ]
  },
  {
   "cell_type": "code",
   "execution_count": 9,
   "metadata": {},
   "outputs": [
    {
     "data": {
      "text/plain": [
       "34.667071929915394"
      ]
     },
     "execution_count": 9,
     "metadata": {},
     "output_type": "execute_result"
    }
   ],
   "source": [
    "mes = 12\n",
    "a + b * 12"
   ]
  },
  {
   "cell_type": "markdown",
   "metadata": {},
   "source": [
    "2) Para construir um modelo linear relacionando a quantidade de fertilizante usado (X) e a produtividade obtida (Y) com uma amostra de 7 canteiros, os dados obtidos foram:"
   ]
  },
  {
   "cell_type": "code",
   "execution_count": 10,
   "metadata": {},
   "outputs": [],
   "source": [
    "X_mean = 400\n",
    "y_mean = 60\n",
    "\n",
    "desvioPadraoX = 216.02\n",
    "desvioPadraoy = 13.84\n",
    "r = 0.92"
   ]
  },
  {
   "cell_type": "markdown",
   "metadata": {},
   "source": [
    "a) Encontre as estimativas do modelo \n",
    "\n",
    "<p style=\"color:red; font-weight: bold\">EU REALMENTE NÃO ENTENDI ESSA QUESTÃO.</p>\n",
    "Então vou supor que ele quer os parâmetros da regressão de novo."
   ]
  },
  {
   "cell_type": "code",
   "execution_count": 11,
   "metadata": {},
   "outputs": [
    {
     "data": {
      "text/plain": [
       "'a = 34.37274326451255'"
      ]
     },
     "metadata": {},
     "output_type": "display_data"
    },
    {
     "data": {
      "text/plain": [
       "'b = 0.06406814183871863'"
      ]
     },
     "metadata": {},
     "output_type": "display_data"
    }
   ],
   "source": [
    "varianciaX = np.square(desvioPadraoX)\n",
    "varianciay = np.square(desvioPadraoy)\n",
    "\n",
    "varianciaXy = desvioPadraoX * desvioPadraoy # SQT\n",
    "\n",
    "b = varianciaXy / varianciaX\n",
    "a = y_mean - b * X_mean\n",
    "\n",
    "display(f'a = {a}')\n",
    "display(f'b = {b}')"
   ]
  },
  {
   "cell_type": "markdown",
   "metadata": {},
   "source": [
    "b) Construa a tabela ANOVA"
   ]
  },
  {
   "cell_type": "markdown",
   "metadata": {},
   "source": [
    "2 grupos, logo:"
   ]
  },
  {
   "cell_type": "code",
   "execution_count": 12,
   "metadata": {},
   "outputs": [],
   "source": [
    "grauDeLiberdadeReg = 1\n",
    "grauDeLiberdadeErro = 5\n",
    "grauDeLiberdadeTotal= 6"
   ]
  },
  {
   "cell_type": "code",
   "execution_count": 13,
   "metadata": {},
   "outputs": [
    {
     "data": {
      "text/plain": [
       "'SQE = 2750.5394560000004'"
      ]
     },
     "metadata": {},
     "output_type": "display_data"
    },
    {
     "data": {
      "text/plain": [
       "'SQR = 239.17734399999972'"
      ]
     },
     "metadata": {},
     "output_type": "display_data"
    },
    {
     "data": {
      "text/plain": [
       "'SQT = 2989.7168'"
      ]
     },
     "metadata": {},
     "output_type": "display_data"
    }
   ],
   "source": [
    "SQE = r * varianciaXy\n",
    "SQR = varianciaXy - SQE\n",
    "\n",
    "display(f'SQE = {SQE}')\n",
    "display(f'SQR = {SQR}')\n",
    "display(f'SQT = {varianciaXy}')"
   ]
  },
  {
   "cell_type": "code",
   "execution_count": 14,
   "metadata": {},
   "outputs": [
    {
     "data": {
      "text/plain": [
       "'QMR = 239.17734399999972'"
      ]
     },
     "metadata": {},
     "output_type": "display_data"
    },
    {
     "data": {
      "text/plain": [
       "'QME = 550.1078912'"
      ]
     },
     "metadata": {},
     "output_type": "display_data"
    },
    {
     "data": {
      "text/plain": [
       "'QMT = 498.28613333333334'"
      ]
     },
     "metadata": {},
     "output_type": "display_data"
    }
   ],
   "source": [
    "QMR = SQR / grauDeLiberdadeReg\n",
    "QME = SQE / grauDeLiberdadeErro\n",
    "QMT = varianciaXy / grauDeLiberdadeTotal\n",
    "\n",
    "display(f'QMR = {QMR}')\n",
    "display(f'QME = {QME}')\n",
    "display(f'QMT = {QMT}')"
   ]
  },
  {
   "cell_type": "code",
   "execution_count": 15,
   "metadata": {},
   "outputs": [
    {
     "data": {
      "text/html": [
       "<div>\n",
       "<style scoped>\n",
       "    .dataframe tbody tr th:only-of-type {\n",
       "        vertical-align: middle;\n",
       "    }\n",
       "\n",
       "    .dataframe tbody tr th {\n",
       "        vertical-align: top;\n",
       "    }\n",
       "\n",
       "    .dataframe thead th {\n",
       "        text-align: right;\n",
       "    }\n",
       "</style>\n",
       "<table border=\"1\" class=\"dataframe\">\n",
       "  <thead>\n",
       "    <tr style=\"text-align: right;\">\n",
       "      <th></th>\n",
       "      <th>Grau de liberdade</th>\n",
       "      <th>SQ</th>\n",
       "      <th>QM</th>\n",
       "    </tr>\n",
       "  </thead>\n",
       "  <tbody>\n",
       "    <tr>\n",
       "      <td>Regressão</td>\n",
       "      <td>1.0</td>\n",
       "      <td>239.177344</td>\n",
       "      <td>239.177344</td>\n",
       "    </tr>\n",
       "    <tr>\n",
       "      <td>Erro</td>\n",
       "      <td>5.0</td>\n",
       "      <td>2750.539456</td>\n",
       "      <td>550.107891</td>\n",
       "    </tr>\n",
       "    <tr>\n",
       "      <td>Total</td>\n",
       "      <td>6.0</td>\n",
       "      <td>2989.716800</td>\n",
       "      <td>498.286133</td>\n",
       "    </tr>\n",
       "  </tbody>\n",
       "</table>\n",
       "</div>"
      ],
      "text/plain": [
       "           Grau de liberdade           SQ          QM\n",
       "Regressão                1.0   239.177344  239.177344\n",
       "Erro                     5.0  2750.539456  550.107891\n",
       "Total                    6.0  2989.716800  498.286133"
      ]
     },
     "execution_count": 15,
     "metadata": {},
     "output_type": "execute_result"
    }
   ],
   "source": [
    "data = np.array([[grauDeLiberdadeReg, SQR, QMR], \n",
    "                 [grauDeLiberdadeErro, SQE, QME],\n",
    "                 [grauDeLiberdadeTotal, varianciaXy, QMT]])\n",
    "\n",
    "pd.DataFrame(data=data, index=['Regressão', 'Erro', 'Total'], columns=['Grau de liberdade', 'SQ', 'QM'])"
   ]
  },
  {
   "cell_type": "code",
   "execution_count": 16,
   "metadata": {},
   "outputs": [
    {
     "data": {
      "text/plain": [
       "'F = 2.300000000000003'"
      ]
     },
     "metadata": {},
     "output_type": "display_data"
    }
   ],
   "source": [
    "display(f'F = {QME / QMR}')"
   ]
  },
  {
   "cell_type": "markdown",
   "metadata": {},
   "source": [
    "c) Analise os resultados"
   ]
  },
  {
   "cell_type": "markdown",
   "metadata": {},
   "source": [
    "Vendo essa tabela F [aqui](https://static.docsity.com/documents_pages/notas/2009/11/19/1fdbfadc3f645ec9e754467becf230bb.png), notamos que valor para númerador 1 e denominador 5 seria 4.060, logo, essa hipótese não pode ser aceita"
   ]
  }
 ],
 "metadata": {
  "kernelspec": {
   "display_name": "Python 3",
   "language": "python",
   "name": "python3"
  },
  "language_info": {
   "codemirror_mode": {
    "name": "ipython",
    "version": 3
   },
   "file_extension": ".py",
   "mimetype": "text/x-python",
   "name": "python",
   "nbconvert_exporter": "python",
   "pygments_lexer": "ipython3",
   "version": "3.7.4"
  }
 },
 "nbformat": 4,
 "nbformat_minor": 2
}
